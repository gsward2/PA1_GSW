{
 "cells": [
  {
   "cell_type": "markdown",
   "id": "324ff27b-de6a-4f8b-be3d-45f3816829ae",
   "metadata": {},
   "source": [
    "# Programming Assignment 1\n",
    "---\n",
    "**Author:** Garrett Ward  \n",
    "**Version:** 1.0  \n",
    "**Semester:** Spring 2024 \n",
    "\n",
    "This *notebook* contains my solution(s) to **Programming Assignment 1**"
   ]
  },
  {
   "cell_type": "markdown",
   "id": "2038894c-ac59-4ff5-833f-43f0d443e0cc",
   "metadata": {},
   "source": [
    "### Problem 1 - Manipulating Numbers"
   ]
  },
  {
   "cell_type": "code",
   "execution_count": 1,
   "id": "469e7e6d-058a-457b-9943-073a965ab119",
   "metadata": {
    "tags": []
   },
   "outputs": [
    {
     "name": "stdin",
     "output_type": "stream",
     "text": [
      "Enter a floating point number:  44.3\n"
     ]
    }
   ],
   "source": [
    "a = float(input(\"Enter a floating point number: \"))"
   ]
  },
  {
   "cell_type": "code",
   "execution_count": 8,
   "id": "b5cec334-64f4-45e5-b84e-737b4d99263b",
   "metadata": {
    "tags": []
   },
   "outputs": [
    {
     "name": "stdin",
     "output_type": "stream",
     "text": [
      "Enter an integer:  16\n"
     ]
    }
   ],
   "source": [
    "b = int(input(\"Enter an integer: \"))"
   ]
  },
  {
   "cell_type": "code",
   "execution_count": 9,
   "id": "0af9627a-e2c9-4add-bd2f-438bfc13ff4d",
   "metadata": {
    "tags": []
   },
   "outputs": [
    {
     "name": "stdout",
     "output_type": "stream",
     "text": [
      " The sum is 60.300.\n"
     ]
    }
   ],
   "source": [
    "result = float(a) + int(b)\n",
    "print(f' The sum is {result:.3f}.')"
   ]
  },
  {
   "cell_type": "code",
   "execution_count": 10,
   "id": "f37586b7-9dc9-43b9-b588-cda82514a809",
   "metadata": {
    "tags": []
   },
   "outputs": [
    {
     "name": "stdout",
     "output_type": "stream",
     "text": [
      " The difference is 28.300.\n"
     ]
    }
   ],
   "source": [
    "result = float(a) - int(b)\n",
    "print(f' The difference is {result:.3f}.')"
   ]
  },
  {
   "cell_type": "code",
   "execution_count": 11,
   "id": "e819aad4-7caa-45e6-a19e-795f56f74bfe",
   "metadata": {
    "tags": []
   },
   "outputs": [
    {
     "name": "stdout",
     "output_type": "stream",
     "text": [
      " The product is 708.800.\n"
     ]
    }
   ],
   "source": [
    "result = float(a)*int(b)\n",
    "print(f' The product is {result:.3f}.')"
   ]
  },
  {
   "cell_type": "code",
   "execution_count": 12,
   "id": "977de299-f490-4574-bb14-b5c17db50689",
   "metadata": {
    "tags": []
   },
   "outputs": [
    {
     "name": "stdout",
     "output_type": "stream",
     "text": [
      " The quotient is 2.769.\n"
     ]
    }
   ],
   "source": [
    "result = float(a)/int(b)\n",
    "print(f' The quotient is {result:.3f}.')"
   ]
  },
  {
   "cell_type": "code",
   "execution_count": 29,
   "id": "9b187398-4650-4019-8f9b-1f94effb08ed",
   "metadata": {
    "tags": []
   },
   "outputs": [
    {
     "name": "stdout",
     "output_type": "stream",
     "text": [
      " The type for the result is <class 'float'>.\n"
     ]
    }
   ],
   "source": [
    "result = float\n",
    "print (f' The type for the result is {result}.')"
   ]
  },
  {
   "cell_type": "markdown",
   "id": "e7ded7a8-7779-4241-b388-7c18c66c66c2",
   "metadata": {},
   "source": [
    "### Problem 2 - Calculating Target Heart Rate"
   ]
  },
  {
   "cell_type": "code",
   "execution_count": 13,
   "id": "725ed926-6eb5-409f-9c65-040cdd3bbc34",
   "metadata": {
    "tags": []
   },
   "outputs": [
    {
     "name": "stdin",
     "output_type": "stream",
     "text": [
      "Enter the age of user 19\n"
     ]
    }
   ],
   "source": [
    "age = input(\"Enter the age of user\")"
   ]
  },
  {
   "cell_type": "code",
   "execution_count": 33,
   "id": "f22994bd-214b-4a03-84a8-7e812096a0ae",
   "metadata": {
    "tags": []
   },
   "outputs": [
    {
     "name": "stdout",
     "output_type": "stream",
     "text": [
      "181\n"
     ]
    }
   ],
   "source": [
    "max_heart_rate = 200 - int(age)\n",
    "print (max_heart_rate)"
   ]
  },
  {
   "cell_type": "code",
   "execution_count": 34,
   "id": "d408e0f3-2cf5-4ea1-9fa6-c10f09071140",
   "metadata": {
    "tags": []
   },
   "outputs": [
    {
     "name": "stdout",
     "output_type": "stream",
     "text": [
      "153.85\n"
     ]
    }
   ],
   "source": [
    "upper_heart_rate = int(max_heart_rate) * .85\n",
    "print (upper_heart_rate)"
   ]
  },
  {
   "cell_type": "code",
   "execution_count": 35,
   "id": "ce382920-951a-4db6-a2c6-61e36c459bb5",
   "metadata": {
    "tags": []
   },
   "outputs": [
    {
     "name": "stdout",
     "output_type": "stream",
     "text": [
      "90.5\n"
     ]
    }
   ],
   "source": [
    "lower_heart_rate = int(max_heart_rate) * .50\n",
    "print (lower_heart_rate)"
   ]
  },
  {
   "cell_type": "code",
   "execution_count": 32,
   "id": "e6cbc57e-5cb4-442f-91dc-be4f8b1cd080",
   "metadata": {
    "tags": []
   },
   "outputs": [
    {
     "name": "stdout",
     "output_type": "stream",
     "text": [
      " The max heart rate is 181.\n",
      " The upper heart rate is 153.85.\n",
      " The lower heart rate is 90.5.\n"
     ]
    }
   ],
   "source": [
    "print (f' The max heart rate is {max_heart_rate}.')\n",
    "print (f' The upper heart rate is {upper_heart_rate}.')\n",
    "print (f' The lower heart rate is {lower_heart_rate}.')"
   ]
  },
  {
   "cell_type": "code",
   "execution_count": null,
   "id": "d9902291-9cf0-4b3a-9a48-bcce766208d8",
   "metadata": {},
   "outputs": [],
   "source": []
  }
 ],
 "metadata": {
  "kernelspec": {
   "display_name": "Python 3 (ipykernel)",
   "language": "python",
   "name": "python3"
  },
  "language_info": {
   "codemirror_mode": {
    "name": "ipython",
    "version": 3
   },
   "file_extension": ".py",
   "mimetype": "text/x-python",
   "name": "python",
   "nbconvert_exporter": "python",
   "pygments_lexer": "ipython3",
   "version": "3.11.5"
  }
 },
 "nbformat": 4,
 "nbformat_minor": 5
}
